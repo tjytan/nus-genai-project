{
 "cells": [
  {
   "cell_type": "code",
   "execution_count": null,
   "id": "7055a161",
   "metadata": {},
   "outputs": [],
   "source": []
  },
  {
   "cell_type": "markdown",
   "id": "e00e66f1",
   "metadata": {},
   "source": [
    "Meal Planner\n",
    "\n",
    "# 🧠 Meal Planner Agent – Agentic AI System\n",
    "\n",
    "## 🥗 Overview\n",
    "\n",
    "This is an Agentic AI system that generates personalized meal plans based on user dietary preferences, restrictions, and goals. The system breaks down the task using specialized subagents, each responsible for one part of the planning process – from constraint parsing to recipe selection and grocery list generation.\n",
    "\n",
    "## 💡 Example Prompt\n",
    "\n",
    "> \"Plan a 3-day vegetarian meal plan that is gluten-free and dairy-free for someone trying to lose weight.\"\n",
    "\n",
    "---\n",
    "\n",
    "## ⚙️ Features\n",
    "\n",
    "- 🍽 Generates 3 meals per day (breakfast, lunch, dinner)\n",
    "- 🧾 Understands user constraints (e.g., diet type, allergies, goals)\n",
    "- 🧠 Uses modular agents to simulate intelligent decision-making\n",
    "- 📅 Produces a complete day-by-day meal plan\n",
    "- 🛒 Automatically compiles a grocery shopping list\n",
    "\n",
    "---\n",
    "\n",
    "## 🧱 Agentic Architecture\n",
    "\n",
    "```plaintext\n",
    "Main Meal Planner Agent\n",
    "├── 📊 Physical Nutrition Agent\n",
    "├── 🧾 Constraint Agent\n",
    "├── 🥗 Food Suggestor Agent\n",
    "├── 📅 Meal Scheduler Agent"
   ]
  },
  {
   "cell_type": "markdown",
   "id": "6a759f7c",
   "metadata": {},
   "source": [
    "# IMPORTS"
   ]
  },
  {
   "cell_type": "markdown",
   "id": "e6a306c0",
   "metadata": {},
   "source": [
    "- 🛒 Automatically compiles a grocery shopping list\n"
   ]
  },
  {
   "cell_type": "code",
   "execution_count": null,
   "id": "0fdc9175",
   "metadata": {},
   "outputs": [],
   "source": [
    "import os\n",
    "\n",
    "from smolagents import CodeAgent, OpenAIServerModel, tool, Tool\n",
    "from dotenv import load_dotenv\n",
    "import requests\n",
    "import pandas as pd"
   ]
  },
  {
   "cell_type": "markdown",
   "id": "5a907cd9",
   "metadata": {},
   "source": [
    "Panda DF"
   ]
  },
  {
   "cell_type": "code",
   "execution_count": null,
   "id": "62df9388",
   "metadata": {},
   "outputs": [],
   "source": [
    "constraint_df= pd.read_csv(\"data/constraint.csv\", sep=\",\")"
   ]
  },
  {
   "cell_type": "markdown",
   "id": "7c3ecf68",
   "metadata": {},
   "source": [
    "# TOOLS"
   ]
  },
  {
   "cell_type": "markdown",
   "id": "dcf91c6d",
   "metadata": {},
   "source": [
    "## 🧾 Constraint Tool"
   ]
  },
  {
   "cell_type": "code",
   "execution_count": null,
   "id": "b94ee5ce",
   "metadata": {},
   "outputs": [],
   "source": [
    "@tool\n",
    "def constraint_agent(user_input: str) -> dict:\n",
    "    \"\"\"\n",
    "    Returns a dictionary of constraints given user input requirement.\n",
    "    Args:\n",
    "        user_input (str): The user requirement.\n",
    "    Returns:\n",
    "        dict: A dictionary containing the relevant constraints.\n",
    "    Example:\n",
    "        constraint = constraint_agent(\"Plan a 3-day vegetarian meal plan, gluten-free and dairy-free, for weight loss.\")\n",
    "        {\n",
    "            \"diet\": \"vegetarian\",\n",
    "            \"restrictions\": [\"gluten-free\", \"dairy-free\"],\n",
    "            \"goal\": \"weight loss\",\n",
    "            \"duration_days\": 3\n",
    "        }\n",
    "    \"\"\"\n",
    "    import pandas as pd\n",
    "\n",
    "    user_input = user_input.lower()\n",
    "\n",
    "    result = {\n",
    "        \"diet\": None,\n",
    "        \"restrictions\": [],\n",
    "        \"goal\": None,\n",
    "        \"duration_days\": None\n",
    "    }\n",
    "\n",
    "    for _, row in constraint_df.iterrows():\n",
    "        if row[\"keyword\"].lower() in user_input:\n",
    "            if row[\"type\"] == \"diet\":\n",
    "                result[\"diet\"] = row[\"value\"]\n",
    "            elif row[\"type\"] == \"restriction\":\n",
    "                result[\"restrictions\"].append(row[\"value\"])\n",
    "            elif row[\"type\"] == \"goal\":\n",
    "                result[\"goal\"] = row[\"value\"]\n",
    "            elif row[\"type\"] == \"duration\":\n",
    "                result[\"duration_days\"] = int(row[\"value\"])\n",
    "\n",
    "    return result\n"
   ]
  },
  {
   "cell_type": "markdown",
   "id": "c8320f16",
   "metadata": {},
   "source": [
    "## 🧾 Food Suggestor Tool"
   ]
  },
  {
   "cell_type": "code",
   "execution_count": null,
   "id": "083a83c0",
   "metadata": {},
   "outputs": [],
   "source": [
    "def food_suggestor_tool(constraints):\n",
    "    \"\"\"\"\n",
    "    Returns a list of food suggestions based on the given constraints.\n",
    "    Args:\n",
    "        constraints (dict): A dictionary containing the constraints.\n",
    "    Returns:\n",
    "        list: A list of food suggestions.\n",
    "    Example: \n",
    "        constraints = {\n",
    "            \"diet\": \"vegetarian\",\n",
    "            \"restrictions\": [\"gluten-free\", \"dairy-free\"],\n",
    "            \"goal\": \"weight loss\",\n",
    "            \"duration_days\": 3\n",
    "        }\n",
    "        suggestions = food_suggestor_agent(constraints)\n",
    "        [\n",
    "            {\"meal\": \"Breakfast\", \"name\": \"Chia Seed Pudding\", \"calories\": 250},\n",
    "            {\"meal\": \"Lunch\", \"name\": \"Quinoa Salad\", \"calories\": 400},\n",
    "            {\"meal\": \"Dinner\", \"name\": \"Stuffed Peppers\", \"calories\": 450},\n",
    "        ]\n",
    "    \"\"\"\n",
    "    return [\n",
    "        {\"meal\": \"Breakfast\", \"name\": \"Chia Seed Pudding\", \"calories\": 250},\n",
    "        {\"meal\": \"Lunch\", \"name\": \"Quinoa Salad\", \"calories\": 400},\n",
    "        {\"meal\": \"Dinner\", \"name\": \"Stuffed Peppers\", \"calories\": 450},\n",
    "    ]"
   ]
  },
  {
   "cell_type": "markdown",
   "id": "efcf6599",
   "metadata": {},
   "source": [
    "## 📊 Nutrition Tool"
   ]
  },
  {
   "cell_type": "code",
   "execution_count": null,
   "id": "13f37023",
   "metadata": {},
   "outputs": [],
   "source": [
    "def nutrition_agent(meals, constraints):\n",
    "    # Validate nutrition (mocked: no changes)\n",
    "    return meals"
   ]
  },
  {
   "cell_type": "markdown",
   "id": "fce4fdc5",
   "metadata": {},
   "source": [
    "## 📅 Meal Scheduler Tool"
   ]
  },
  {
   "cell_type": "code",
   "execution_count": null,
   "id": "e754da0c",
   "metadata": {},
   "outputs": [],
   "source": [
    "# inputs: list of meals\n",
    "# outputs: list of meals with time\n",
    "\n",
    "def meal_scheduler_agent(meals, duration_days):\n",
    "    # Organize into a day-by-day plan (mocked simple repetition)\n",
    "    plan = {}\n",
    "    for day in range(1, duration_days + 1):\n",
    "        plan[f\"Day {day}\"] = meals\n",
    "    return plan"
   ]
  },
  {
   "cell_type": "markdown",
   "id": "8c35e799",
   "metadata": {},
   "source": [
    "# MAIN AGENT"
   ]
  },
  {
   "cell_type": "code",
   "execution_count": null,
   "id": "2791546b",
   "metadata": {},
   "outputs": [],
   "source": [
    "# TODO: Create an agent with our own tools\n",
    "tools = [ ]\n",
    "authorized_imports = ['bs4', 'pandas']\n",
    "agent = CodeAgent(\n",
    "  tools=tools,\n",
    "  model=agent_model,\n",
    "  add_base_tools=False,\n",
    "  additional_authorized_imports=authorized_imports,\n",
    "  max_steps=5\n",
    ")"
   ]
  },
  {
   "cell_type": "code",
   "execution_count": null,
   "id": "07e6d04e",
   "metadata": {},
   "outputs": [],
   "source": []
  }
 ],
 "metadata": {
  "kernelspec": {
   "display_name": "Python 3",
   "language": "python",
   "name": "python3"
  },
  "language_info": {
   "codemirror_mode": {
    "name": "ipython",
    "version": 3
   },
   "file_extension": ".py",
   "mimetype": "text/x-python",
   "name": "python",
   "nbconvert_exporter": "python",
   "pygments_lexer": "ipython3",
   "version": "3.12.10"
  }
 },
 "nbformat": 4,
 "nbformat_minor": 5
}
